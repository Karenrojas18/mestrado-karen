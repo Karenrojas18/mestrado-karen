{
 "cells": [
  {
   "cell_type": "code",
   "execution_count": 13,
   "metadata": {},
   "outputs": [
    {
     "name": "stdout",
     "output_type": "stream",
     "text": [
      "a\n"
     ]
    }
   ],
   "source": [
    "print(\"a\")"
   ]
  },
  {
   "cell_type": "code",
   "execution_count": 1,
   "metadata": {},
   "outputs": [
    {
     "name": "stdout",
     "output_type": "stream",
     "text": [
      "Valores máximos: {'Coleta': np.int64(13), 'ano': np.int64(2022), 'latitude ': np.int64(-24562), 'longitude ': np.int64(-53915), 'Dias': np.int64(5), 'prec5a': np.float64(23.2), 'prec4a  ': np.float64(68.7), 'prec3a ': np.float64(43.9), 'prec2a': np.float64(22.9), 'prec1a  ': np.float64(61.2), 'prec1 ': np.float64(32.5), 'prec2': np.float64(48.0), 'prec3': np.float64(57.6), 'Prec mês': np.float64(1201.99), 'fluo': np.float64(170.54), 'clor': np.float64(91003.38), 'nitrito': np.float64(3997.2), 'brom': np.float64(175.92), 'nitrato': np.float64(49620.42), 'sulfato': np.float64(5729.87), 'fosfato': np.float64(8008.25), 'N-NO2': np.float64(1217.0), 'N-NO3': np.float64(21357.95), 'S-SO4': np.float64(1986.5), 'P-PO4 ': np.float64(2611.84), 'gly': np.float64(12.5), 'ampa': np.int64(0)}\n",
      "Valores mínimos: {'Coleta': np.int64(1), 'ano': np.int64(2019), 'latitude ': np.int64(-257955), 'longitude ': np.int64(-550505), 'Dias': np.int64(3), 'prec5a': np.float64(0.0), 'prec4a  ': np.float64(0.0), 'prec3a ': np.float64(0.0), 'prec2a': np.float64(0.0), 'prec1a  ': np.float64(0.0), 'prec1 ': np.float64(0.0), 'prec2': np.float64(0.0), 'prec3': np.float64(0.0), 'Prec mês': np.float64(12.2), 'fluo': np.float64(12.5), 'clor': np.float64(66.57), 'nitrito': np.float64(0.0), 'brom': np.float64(0.0), 'nitrato': np.float64(25.0), 'sulfato': np.float64(25.0), 'fosfato': np.float64(0.0), 'N-NO2': np.float64(0.0), 'N-NO3': np.float64(1.13), 'S-SO4': np.float64(8.5), 'P-PO4 ': np.float64(0.0), 'gly': np.float64(0.0), 'ampa': np.int64(0)}\n"
     ]
    }
   ],
   "source": [
    "import pandas as pd\n",
    "\n",
    "# Carregar o arquivo Excel\n",
    "df = pd.read_excel('water_data.xlsx')\n",
    "\n",
    "# Inicializar dicionários para armazenar os valores máximos e mínimos\n",
    "max_values = {}\n",
    "min_values = {}\n",
    "\n",
    "# Iterar sobre as colunas do DataFrame\n",
    "for column in df.columns:\n",
    "    # Ignorar colunas que não são numéricas\n",
    "    if pd.api.types.is_numeric_dtype(df[column]):\n",
    "        max_values[column] = df[column].max()\n",
    "        min_values[column] = df[column].min()\n",
    "\n",
    "# Exibir os valores máximos e mínimos\n",
    "print('Valores máximos:', max_values)\n",
    "print('Valores mínimos:', min_values)"
   ]
  }
 ],
 "metadata": {
  "kernelspec": {
   "display_name": "ai_climate_water_env",
   "language": "python",
   "name": "python3"
  },
  "language_info": {
   "codemirror_mode": {
    "name": "ipython",
    "version": 3
   },
   "file_extension": ".py",
   "mimetype": "text/x-python",
   "name": "python",
   "nbconvert_exporter": "python",
   "pygments_lexer": "ipython3",
   "version": "3.10.11"
  }
 },
 "nbformat": 4,
 "nbformat_minor": 2
}
